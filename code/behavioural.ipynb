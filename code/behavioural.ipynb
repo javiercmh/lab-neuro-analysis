{
 "cells": [
  {
   "cell_type": "markdown",
   "metadata": {},
   "source": [
    "# Behavioural analysis\n",
    "\n",
    "I follow Melara, Wang, Vu, & Proctor (2008) as reference.\n",
    "\n",
    "Variables:\n",
    "- vp: participant\n",
    "- ss: session\n",
    "- bl: block\n",
    "- tr: trial\n",
    "- cond: condition\n",
    "- real_soa: millisecond between both stimuli. Should be 100, but we allow +- 2. Drop all the rest.\n",
    "- corresp: left button 1, right button 3\n",
    "- respac: correct (1) or incorrect (0)\n",
    "- rt: reaction time\n",
    "- outlier: 0 if response lies between 100 and 700 ms"
   ]
  },
  {
   "cell_type": "code",
   "execution_count": 2,
   "metadata": {},
   "outputs": [],
   "source": [
    "import os\n",
    "os.chdir('../data')\n",
    "\n",
    "import pandas as pd\n",
    "import pingouin as pg\n",
    "from statsmodels.stats.anova import AnovaRM"
   ]
  },
  {
   "cell_type": "code",
   "execution_count": 22,
   "metadata": {},
   "outputs": [],
   "source": [
    "reaction_times = pd.read_csv(\"input/behavioural/MeanRTs.csv\")\n",
    "error_rates = pd.read_csv(\"input/behavioural/ArsErrorRates.csv\")"
   ]
  },
  {
   "cell_type": "markdown",
   "metadata": {},
   "source": [
    "**Conditions**\n",
    "\n",
    "We will use a code like \"CN\" or \"IC\".\n",
    "- Stroop - Simon: first and second character respectively.\n",
    "- C: consistent (same colour, same position as the pressed button).\n",
    "- N: neutral\n",
    "- I: inconsistent.\n",
    "\n",
    "Example: CN is consistent stroop and neutral Simon."
   ]
  },
  {
   "cell_type": "code",
   "execution_count": 23,
   "metadata": {},
   "outputs": [
    {
     "data": {
      "text/html": [
       "<div>\n",
       "<style scoped>\n",
       "    .dataframe tbody tr th:only-of-type {\n",
       "        vertical-align: middle;\n",
       "    }\n",
       "\n",
       "    .dataframe tbody tr th {\n",
       "        vertical-align: top;\n",
       "    }\n",
       "\n",
       "    .dataframe thead th {\n",
       "        text-align: right;\n",
       "    }\n",
       "</style>\n",
       "<table border=\"1\" class=\"dataframe\">\n",
       "  <thead>\n",
       "    <tr style=\"text-align: right;\">\n",
       "      <th></th>\n",
       "      <th>subject</th>\n",
       "      <th>CC</th>\n",
       "      <th>CN</th>\n",
       "      <th>CI</th>\n",
       "      <th>NC</th>\n",
       "      <th>NN</th>\n",
       "      <th>NI</th>\n",
       "      <th>IC</th>\n",
       "      <th>IN</th>\n",
       "      <th>II</th>\n",
       "    </tr>\n",
       "  </thead>\n",
       "  <tbody>\n",
       "    <tr>\n",
       "      <th>0</th>\n",
       "      <td>1</td>\n",
       "      <td>370.741497</td>\n",
       "      <td>352.993243</td>\n",
       "      <td>392.828767</td>\n",
       "      <td>392.082192</td>\n",
       "      <td>374.272727</td>\n",
       "      <td>393.857143</td>\n",
       "      <td>388.591837</td>\n",
       "      <td>368.021429</td>\n",
       "      <td>403.600000</td>\n",
       "    </tr>\n",
       "    <tr>\n",
       "      <th>1</th>\n",
       "      <td>2</td>\n",
       "      <td>411.244755</td>\n",
       "      <td>413.094891</td>\n",
       "      <td>490.110236</td>\n",
       "      <td>427.992701</td>\n",
       "      <td>426.248175</td>\n",
       "      <td>495.833333</td>\n",
       "      <td>449.589552</td>\n",
       "      <td>436.270677</td>\n",
       "      <td>493.960000</td>\n",
       "    </tr>\n",
       "    <tr>\n",
       "      <th>2</th>\n",
       "      <td>3</td>\n",
       "      <td>390.233577</td>\n",
       "      <td>370.014925</td>\n",
       "      <td>402.106870</td>\n",
       "      <td>386.125874</td>\n",
       "      <td>351.845070</td>\n",
       "      <td>411.912409</td>\n",
       "      <td>390.640288</td>\n",
       "      <td>358.654930</td>\n",
       "      <td>404.401460</td>\n",
       "    </tr>\n",
       "    <tr>\n",
       "      <th>3</th>\n",
       "      <td>4</td>\n",
       "      <td>340.777778</td>\n",
       "      <td>345.400000</td>\n",
       "      <td>384.114035</td>\n",
       "      <td>358.549296</td>\n",
       "      <td>349.512397</td>\n",
       "      <td>388.313043</td>\n",
       "      <td>361.362963</td>\n",
       "      <td>351.144068</td>\n",
       "      <td>393.261261</td>\n",
       "    </tr>\n",
       "    <tr>\n",
       "      <th>4</th>\n",
       "      <td>5</td>\n",
       "      <td>358.657718</td>\n",
       "      <td>356.958621</td>\n",
       "      <td>418.195804</td>\n",
       "      <td>376.979452</td>\n",
       "      <td>355.134752</td>\n",
       "      <td>413.185714</td>\n",
       "      <td>368.698630</td>\n",
       "      <td>370.881944</td>\n",
       "      <td>418.569343</td>\n",
       "    </tr>\n",
       "  </tbody>\n",
       "</table>\n",
       "</div>"
      ],
      "text/plain": [
       "   subject          CC          CN          CI          NC          NN  \\\n",
       "0        1  370.741497  352.993243  392.828767  392.082192  374.272727   \n",
       "1        2  411.244755  413.094891  490.110236  427.992701  426.248175   \n",
       "2        3  390.233577  370.014925  402.106870  386.125874  351.845070   \n",
       "3        4  340.777778  345.400000  384.114035  358.549296  349.512397   \n",
       "4        5  358.657718  356.958621  418.195804  376.979452  355.134752   \n",
       "\n",
       "           NI          IC          IN          II  \n",
       "0  393.857143  388.591837  368.021429  403.600000  \n",
       "1  495.833333  449.589552  436.270677  493.960000  \n",
       "2  411.912409  390.640288  358.654930  404.401460  \n",
       "3  388.313043  361.362963  351.144068  393.261261  \n",
       "4  413.185714  368.698630  370.881944  418.569343  "
      ]
     },
     "execution_count": 23,
     "metadata": {},
     "output_type": "execute_result"
    }
   ],
   "source": [
    "reaction_times.head()"
   ]
  },
  {
   "cell_type": "markdown",
   "metadata": {},
   "source": [
    "In my study, I am interested in the Simon effect, so I will need N Stroop and C/I Simon."
   ]
  },
  {
   "cell_type": "code",
   "execution_count": 24,
   "metadata": {},
   "outputs": [],
   "source": [
    "# keep only columns relevant to the pure Simon effect\n",
    "columns = [\"subject\", \"NC\", \"NI\"]\n",
    "reaction_times = reaction_times[columns]\n",
    "error_rates = error_rates[columns]"
   ]
  },
  {
   "cell_type": "code",
   "execution_count": 25,
   "metadata": {},
   "outputs": [
    {
     "data": {
      "text/html": [
       "<div>\n",
       "<style scoped>\n",
       "    .dataframe tbody tr th:only-of-type {\n",
       "        vertical-align: middle;\n",
       "    }\n",
       "\n",
       "    .dataframe tbody tr th {\n",
       "        vertical-align: top;\n",
       "    }\n",
       "\n",
       "    .dataframe thead th {\n",
       "        text-align: right;\n",
       "    }\n",
       "</style>\n",
       "<table border=\"1\" class=\"dataframe\">\n",
       "  <thead>\n",
       "    <tr style=\"text-align: right;\">\n",
       "      <th></th>\n",
       "      <th>subject</th>\n",
       "      <th>variable</th>\n",
       "      <th>value</th>\n",
       "    </tr>\n",
       "  </thead>\n",
       "  <tbody>\n",
       "    <tr>\n",
       "      <th>3</th>\n",
       "      <td>4</td>\n",
       "      <td>NC</td>\n",
       "      <td>358.549296</td>\n",
       "    </tr>\n",
       "    <tr>\n",
       "      <th>5</th>\n",
       "      <td>6</td>\n",
       "      <td>NC</td>\n",
       "      <td>442.753968</td>\n",
       "    </tr>\n",
       "    <tr>\n",
       "      <th>18</th>\n",
       "      <td>8</td>\n",
       "      <td>NI</td>\n",
       "      <td>375.634328</td>\n",
       "    </tr>\n",
       "    <tr>\n",
       "      <th>13</th>\n",
       "      <td>3</td>\n",
       "      <td>NI</td>\n",
       "      <td>411.912409</td>\n",
       "    </tr>\n",
       "    <tr>\n",
       "      <th>20</th>\n",
       "      <td>10</td>\n",
       "      <td>NI</td>\n",
       "      <td>409.648276</td>\n",
       "    </tr>\n",
       "  </tbody>\n",
       "</table>\n",
       "</div>"
      ],
      "text/plain": [
       "    subject variable       value\n",
       "3         4       NC  358.549296\n",
       "5         6       NC  442.753968\n",
       "18        8       NI  375.634328\n",
       "13        3       NI  411.912409\n",
       "20       10       NI  409.648276"
      ]
     },
     "execution_count": 25,
     "metadata": {},
     "output_type": "execute_result"
    }
   ],
   "source": [
    "# unpivot dataframes\n",
    "reaction_times = pd.melt(reaction_times, id_vars=[\"subject\"], value_vars=[\"NC\", \"NI\"])\n",
    "error_rates = pd.melt(error_rates, id_vars=[\"subject\"], value_vars=[\"NC\", \"NI\"])\n",
    "reaction_times.sample(5)"
   ]
  },
  {
   "cell_type": "code",
   "execution_count": 26,
   "metadata": {},
   "outputs": [
    {
     "name": "stdout",
     "output_type": "stream",
     "text": [
      "                Anova\n",
      "======================================\n",
      "         F Value Num DF  Den DF Pr > F\n",
      "--------------------------------------\n",
      "variable 21.8033 1.0000 10.0000 0.0009\n",
      "======================================\n",
      "\n"
     ]
    }
   ],
   "source": [
    "print(AnovaRM(data=reaction_times, depvar=\"value\", subject=\"subject\", within=['variable']).fit())"
   ]
  },
  {
   "cell_type": "code",
   "execution_count": null,
   "metadata": {},
   "outputs": [],
   "source": []
  }
 ],
 "metadata": {
  "kernelspec": {
   "display_name": "Python 3.10.5 ('venv': venv)",
   "language": "python",
   "name": "python3"
  },
  "language_info": {
   "codemirror_mode": {
    "name": "ipython",
    "version": 3
   },
   "file_extension": ".py",
   "mimetype": "text/x-python",
   "name": "python",
   "nbconvert_exporter": "python",
   "pygments_lexer": "ipython3",
   "version": "3.10.5"
  },
  "orig_nbformat": 4,
  "vscode": {
   "interpreter": {
    "hash": "03f3b7ca84d6d3ca15af215941b37f471c147b37f24c77d368f7cce30d5a4c3a"
   }
  }
 },
 "nbformat": 4,
 "nbformat_minor": 2
}
