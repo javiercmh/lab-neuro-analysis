{
 "cells": [
  {
   "cell_type": "markdown",
   "metadata": {},
   "source": [
    "# EEG Analysis\n",
    "\n",
    "I follow Melara, Wang, Vu, & Proctor (2008) as reference."
   ]
  },
  {
   "cell_type": "code",
   "execution_count": 1,
   "metadata": {},
   "outputs": [],
   "source": [
    "import re\n",
    "import os\n",
    "os.chdir('../data')\n",
    "\n",
    "import pandas as pd\n",
    "import pingouin as pg"
   ]
  },
  {
   "cell_type": "code",
   "execution_count": 81,
   "metadata": {},
   "outputs": [],
   "source": [
    "with open('input/eeg/N200_Simon_consistent.txt', 'r') as txt:\n",
    "    consistent = pd.read_csv(txt, sep='[ ]+', engine='python')  # 'python' engine supports regex\n",
    "with open('input/eeg/N200_Simon_inconsistent.txt', 'r') as txt:\n",
    "    inconsistent = pd.read_csv(txt, sep='[ ]+', engine='python')"
   ]
  },
  {
   "cell_type": "code",
   "execution_count": 82,
   "metadata": {},
   "outputs": [
    {
     "data": {
      "text/plain": [
       "['Fz-BL_Simon_con', 'Cz-BL_Simon_con', 'FCz-BL_Simon_con']"
      ]
     },
     "execution_count": 82,
     "metadata": {},
     "output_type": "execute_result"
    }
   ],
   "source": [
    "electrodes_con = [name for name in consistent.columns if re.search('[F|C|FC]z', name)]\n",
    "electrodes_incon = [name for name in inconsistent.columns if re.search('[F|C|FC]z', name)]\n",
    "electrodes_con"
   ]
  },
  {
   "cell_type": "code",
   "execution_count": 83,
   "metadata": {},
   "outputs": [
    {
     "data": {
      "text/html": [
       "<div>\n",
       "<style scoped>\n",
       "    .dataframe tbody tr th:only-of-type {\n",
       "        vertical-align: middle;\n",
       "    }\n",
       "\n",
       "    .dataframe tbody tr th {\n",
       "        vertical-align: top;\n",
       "    }\n",
       "\n",
       "    .dataframe thead th {\n",
       "        text-align: right;\n",
       "    }\n",
       "</style>\n",
       "<table border=\"1\" class=\"dataframe\">\n",
       "  <thead>\n",
       "    <tr style=\"text-align: right;\">\n",
       "      <th></th>\n",
       "      <th>Fz-BL_Simon_con</th>\n",
       "      <th>Cz-BL_Simon_con</th>\n",
       "      <th>FCz-BL_Simon_con</th>\n",
       "      <th>Fz-BL_Simon_incon</th>\n",
       "      <th>Cz-BL_Simon_incon</th>\n",
       "      <th>FCz-BL_Simon_incon</th>\n",
       "    </tr>\n",
       "  </thead>\n",
       "  <tbody>\n",
       "    <tr>\n",
       "      <th>0</th>\n",
       "      <td>-2,837336</td>\n",
       "      <td>1,063387</td>\n",
       "      <td>-1,611021</td>\n",
       "      <td>-1,352624</td>\n",
       "      <td>1,534315</td>\n",
       "      <td>-0,374006</td>\n",
       "    </tr>\n",
       "    <tr>\n",
       "      <th>1</th>\n",
       "      <td>-0,509586</td>\n",
       "      <td>2,769833</td>\n",
       "      <td>1,040470</td>\n",
       "      <td>0,047176</td>\n",
       "      <td>1,605703</td>\n",
       "      <td>0,468330</td>\n",
       "    </tr>\n",
       "    <tr>\n",
       "      <th>2</th>\n",
       "      <td>2,051602</td>\n",
       "      <td>2,123461</td>\n",
       "      <td>2,348540</td>\n",
       "      <td>0,008106</td>\n",
       "      <td>-0,843206</td>\n",
       "      <td>-0,725597</td>\n",
       "    </tr>\n",
       "    <tr>\n",
       "      <th>3</th>\n",
       "      <td>1,710116</td>\n",
       "      <td>6,434400</td>\n",
       "      <td>4,068703</td>\n",
       "      <td>1,587750</td>\n",
       "      <td>6,687336</td>\n",
       "      <td>4,168632</td>\n",
       "    </tr>\n",
       "    <tr>\n",
       "      <th>4</th>\n",
       "      <td>0,426309</td>\n",
       "      <td>0,542873</td>\n",
       "      <td>0,252751</td>\n",
       "      <td>-1,078918</td>\n",
       "      <td>-0,973850</td>\n",
       "      <td>-2,052961</td>\n",
       "    </tr>\n",
       "    <tr>\n",
       "      <th>5</th>\n",
       "      <td>-0,593096</td>\n",
       "      <td>-1,277104</td>\n",
       "      <td>-0,792954</td>\n",
       "      <td>-0,590188</td>\n",
       "      <td>-1,013159</td>\n",
       "      <td>-0,727562</td>\n",
       "    </tr>\n",
       "    <tr>\n",
       "      <th>6</th>\n",
       "      <td>0,811415</td>\n",
       "      <td>-4,826107</td>\n",
       "      <td>-1,448437</td>\n",
       "      <td>0,428882</td>\n",
       "      <td>-4,596034</td>\n",
       "      <td>-1,153903</td>\n",
       "    </tr>\n",
       "    <tr>\n",
       "      <th>7</th>\n",
       "      <td>-1,371791</td>\n",
       "      <td>2,054905</td>\n",
       "      <td>0,645081</td>\n",
       "      <td>-1,676434</td>\n",
       "      <td>1,214297</td>\n",
       "      <td>0,040007</td>\n",
       "    </tr>\n",
       "    <tr>\n",
       "      <th>8</th>\n",
       "      <td>-2,412884</td>\n",
       "      <td>3,043248</td>\n",
       "      <td>-1,376676</td>\n",
       "      <td>-3,441025</td>\n",
       "      <td>2,748364</td>\n",
       "      <td>-2,113057</td>\n",
       "    </tr>\n",
       "    <tr>\n",
       "      <th>9</th>\n",
       "      <td>1,312028</td>\n",
       "      <td>5,530357</td>\n",
       "      <td>3,336475</td>\n",
       "      <td>1,439258</td>\n",
       "      <td>4,551743</td>\n",
       "      <td>2,726218</td>\n",
       "    </tr>\n",
       "    <tr>\n",
       "      <th>10</th>\n",
       "      <td>-1,676380</td>\n",
       "      <td>1,293585</td>\n",
       "      <td>-0,330435</td>\n",
       "      <td>-0,702238</td>\n",
       "      <td>0,802874</td>\n",
       "      <td>-0,114497</td>\n",
       "    </tr>\n",
       "  </tbody>\n",
       "</table>\n",
       "</div>"
      ],
      "text/plain": [
       "   Fz-BL_Simon_con Cz-BL_Simon_con FCz-BL_Simon_con Fz-BL_Simon_incon  \\\n",
       "0        -2,837336        1,063387        -1,611021         -1,352624   \n",
       "1        -0,509586        2,769833         1,040470          0,047176   \n",
       "2         2,051602        2,123461         2,348540          0,008106   \n",
       "3         1,710116        6,434400         4,068703          1,587750   \n",
       "4         0,426309        0,542873         0,252751         -1,078918   \n",
       "5        -0,593096       -1,277104        -0,792954         -0,590188   \n",
       "6         0,811415       -4,826107        -1,448437          0,428882   \n",
       "7        -1,371791        2,054905         0,645081         -1,676434   \n",
       "8        -2,412884        3,043248        -1,376676         -3,441025   \n",
       "9         1,312028        5,530357         3,336475          1,439258   \n",
       "10       -1,676380        1,293585        -0,330435         -0,702238   \n",
       "\n",
       "   Cz-BL_Simon_incon FCz-BL_Simon_incon  \n",
       "0           1,534315          -0,374006  \n",
       "1           1,605703           0,468330  \n",
       "2          -0,843206          -0,725597  \n",
       "3           6,687336           4,168632  \n",
       "4          -0,973850          -2,052961  \n",
       "5          -1,013159          -0,727562  \n",
       "6          -4,596034          -1,153903  \n",
       "7           1,214297           0,040007  \n",
       "8           2,748364          -2,113057  \n",
       "9           4,551743           2,726218  \n",
       "10          0,802874          -0,114497  "
      ]
     },
     "execution_count": 83,
     "metadata": {},
     "output_type": "execute_result"
    }
   ],
   "source": [
    "# concat the two dataframes\n",
    "simon = pd.concat([consistent[electrodes_con], inconsistent[electrodes_incon]], axis=1)\n",
    "simon"
   ]
  },
  {
   "cell_type": "code",
   "execution_count": 95,
   "metadata": {},
   "outputs": [],
   "source": [
    "# make dataframe numerical\n",
    "for col in simon.columns:\n",
    "    simon[col] = pd.to_numeric(simon[col].str.replace(',', '.'))"
   ]
  },
  {
   "cell_type": "code",
   "execution_count": 97,
   "metadata": {},
   "outputs": [
    {
     "data": {
      "text/plain": [
       "Fz-BL_Simon_con      -0.280873\n",
       "Cz-BL_Simon_con       1.704803\n",
       "FCz-BL_Simon_con      0.557500\n",
       "Fz-BL_Simon_incon    -0.484569\n",
       "Cz-BL_Simon_incon     1.065308\n",
       "FCz-BL_Simon_incon    0.012873\n",
       "dtype: float64"
      ]
     },
     "execution_count": 97,
     "metadata": {},
     "output_type": "execute_result"
    }
   ],
   "source": [
    "simon.mean()"
   ]
  },
  {
   "cell_type": "code",
   "execution_count": 120,
   "metadata": {},
   "outputs": [],
   "source": [
    "Fz = pg.ttest(simon['Fz-BL_Simon_con'], simon['Fz-BL_Simon_incon'], alternative='greater', paired=True)\n",
    "Fz.index = ['Fz']"
   ]
  },
  {
   "cell_type": "code",
   "execution_count": 122,
   "metadata": {},
   "outputs": [],
   "source": [
    "FCz = pg.ttest(simon['FCz-BL_Simon_con'], simon['FCz-BL_Simon_incon'], alternative='greater', paired=True)\n",
    "FCz.index = ['FCz']"
   ]
  },
  {
   "cell_type": "code",
   "execution_count": 121,
   "metadata": {},
   "outputs": [],
   "source": [
    "Cz = pg.ttest(simon['Cz-BL_Simon_con'], simon['Cz-BL_Simon_incon'], alternative='greater', paired=True)\n",
    "Cz.index = ['Cz']"
   ]
  },
  {
   "cell_type": "code",
   "execution_count": 127,
   "metadata": {},
   "outputs": [
    {
     "data": {
      "text/html": [
       "<div>\n",
       "<style scoped>\n",
       "    .dataframe tbody tr th:only-of-type {\n",
       "        vertical-align: middle;\n",
       "    }\n",
       "\n",
       "    .dataframe tbody tr th {\n",
       "        vertical-align: top;\n",
       "    }\n",
       "\n",
       "    .dataframe thead th {\n",
       "        text-align: right;\n",
       "    }\n",
       "</style>\n",
       "<table border=\"1\" class=\"dataframe\">\n",
       "  <thead>\n",
       "    <tr style=\"text-align: right;\">\n",
       "      <th></th>\n",
       "      <th>T</th>\n",
       "      <th>dof</th>\n",
       "      <th>p-val</th>\n",
       "      <th>CI95%</th>\n",
       "      <th>cohen-d</th>\n",
       "      <th>BF10</th>\n",
       "      <th>power</th>\n",
       "    </tr>\n",
       "  </thead>\n",
       "  <tbody>\n",
       "    <tr>\n",
       "      <th>Fz</th>\n",
       "      <td>0.650807</td>\n",
       "      <td>10</td>\n",
       "      <td>0.264920</td>\n",
       "      <td>[-0.36, inf]</td>\n",
       "      <td>0.130556</td>\n",
       "      <td>0.713</td>\n",
       "      <td>0.107407</td>\n",
       "    </tr>\n",
       "    <tr>\n",
       "      <th>FCz</th>\n",
       "      <td>1.485299</td>\n",
       "      <td>10</td>\n",
       "      <td>0.084146</td>\n",
       "      <td>[-0.12, inf]</td>\n",
       "      <td>0.281392</td>\n",
       "      <td>1.413</td>\n",
       "      <td>0.219457</td>\n",
       "    </tr>\n",
       "    <tr>\n",
       "      <th>Cz</th>\n",
       "      <td>2.083925</td>\n",
       "      <td>10</td>\n",
       "      <td>0.031888</td>\n",
       "      <td>[0.08, inf]</td>\n",
       "      <td>0.210224</td>\n",
       "      <td>2.842</td>\n",
       "      <td>0.160116</td>\n",
       "    </tr>\n",
       "  </tbody>\n",
       "</table>\n",
       "</div>"
      ],
      "text/plain": [
       "            T  dof     p-val         CI95%   cohen-d   BF10     power\n",
       "Fz   0.650807   10  0.264920  [-0.36, inf]  0.130556  0.713  0.107407\n",
       "FCz  1.485299   10  0.084146  [-0.12, inf]  0.281392  1.413  0.219457\n",
       "Cz   2.083925   10  0.031888   [0.08, inf]  0.210224  2.842  0.160116"
      ]
     },
     "execution_count": 127,
     "metadata": {},
     "output_type": "execute_result"
    }
   ],
   "source": [
    "pd.concat([Fz, FCz, Cz]).drop(columns=[\"alternative\"])"
   ]
  }
 ],
 "metadata": {
  "kernelspec": {
   "display_name": "Python 3.10.4 ('venv': venv)",
   "language": "python",
   "name": "python3"
  },
  "language_info": {
   "codemirror_mode": {
    "name": "ipython",
    "version": 3
   },
   "file_extension": ".py",
   "mimetype": "text/x-python",
   "name": "python",
   "nbconvert_exporter": "python",
   "pygments_lexer": "ipython3",
   "version": "3.10.4"
  },
  "orig_nbformat": 4,
  "vscode": {
   "interpreter": {
    "hash": "03f3b7ca84d6d3ca15af215941b37f471c147b37f24c77d368f7cce30d5a4c3a"
   }
  }
 },
 "nbformat": 4,
 "nbformat_minor": 2
}
